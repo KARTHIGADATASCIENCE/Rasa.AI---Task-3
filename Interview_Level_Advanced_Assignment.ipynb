{
 "cells": [
  {
   "cell_type": "markdown",
   "id": "8056a898",
   "metadata": {},
   "source": [
    "# 💼 Advanced Data Analysis Assignment: "
   ]
  },
  {
   "cell_type": "markdown",
   "id": "d0fe0176",
   "metadata": {},
   "source": [
    "## 📦 1. Setup"
   ]
  },
  {
   "cell_type": "code",
   "execution_count": 1,
   "id": "3b766000",
   "metadata": {},
   "outputs": [],
   "source": [
    "import pandas as pd\n",
    "import numpy as np\n",
    "import matplotlib.pyplot as plt\n",
    "import seaborn as sns\n",
    "\n",
    "sns.set(style='darkgrid')\n",
    "%matplotlib inline"
   ]
  },
  {
   "cell_type": "code",
   "execution_count": 3,
   "id": "d7e57eff-3ff9-4b3a-8948-2f8cd7233d2f",
   "metadata": {},
   "outputs": [
    {
     "data": {
      "text/html": [
       "<div>\n",
       "<style scoped>\n",
       "    .dataframe tbody tr th:only-of-type {\n",
       "        vertical-align: middle;\n",
       "    }\n",
       "\n",
       "    .dataframe tbody tr th {\n",
       "        vertical-align: top;\n",
       "    }\n",
       "\n",
       "    .dataframe thead th {\n",
       "        text-align: right;\n",
       "    }\n",
       "</style>\n",
       "<table border=\"1\" class=\"dataframe\">\n",
       "  <thead>\n",
       "    <tr style=\"text-align: right;\">\n",
       "      <th></th>\n",
       "      <th>Item_Identifier</th>\n",
       "      <th>Item_Weight</th>\n",
       "      <th>Item_Fat_Content</th>\n",
       "      <th>Item_Visibility</th>\n",
       "      <th>Item_Type</th>\n",
       "      <th>Item_MRP</th>\n",
       "      <th>Outlet_Identifier</th>\n",
       "      <th>Outlet_Establishment_Year</th>\n",
       "      <th>Outlet_Size</th>\n",
       "      <th>Outlet_Location_Type</th>\n",
       "      <th>Outlet_Type</th>\n",
       "      <th>Item_Outlet_Sales</th>\n",
       "    </tr>\n",
       "  </thead>\n",
       "  <tbody>\n",
       "    <tr>\n",
       "      <th>0</th>\n",
       "      <td>FDA15</td>\n",
       "      <td>9.30</td>\n",
       "      <td>Low Fat</td>\n",
       "      <td>0.016047</td>\n",
       "      <td>Dairy</td>\n",
       "      <td>249.8092</td>\n",
       "      <td>OUT049</td>\n",
       "      <td>1999</td>\n",
       "      <td>Medium</td>\n",
       "      <td>Tier 1</td>\n",
       "      <td>Supermarket Type1</td>\n",
       "      <td>3735.1380</td>\n",
       "    </tr>\n",
       "    <tr>\n",
       "      <th>1</th>\n",
       "      <td>DRC01</td>\n",
       "      <td>5.92</td>\n",
       "      <td>Regular</td>\n",
       "      <td>0.019278</td>\n",
       "      <td>Soft Drinks</td>\n",
       "      <td>48.2692</td>\n",
       "      <td>OUT018</td>\n",
       "      <td>2009</td>\n",
       "      <td>Medium</td>\n",
       "      <td>Tier 3</td>\n",
       "      <td>Supermarket Type2</td>\n",
       "      <td>443.4228</td>\n",
       "    </tr>\n",
       "    <tr>\n",
       "      <th>2</th>\n",
       "      <td>FDN15</td>\n",
       "      <td>17.50</td>\n",
       "      <td>Low Fat</td>\n",
       "      <td>0.016760</td>\n",
       "      <td>Meat</td>\n",
       "      <td>141.6180</td>\n",
       "      <td>OUT049</td>\n",
       "      <td>1999</td>\n",
       "      <td>Medium</td>\n",
       "      <td>Tier 1</td>\n",
       "      <td>Supermarket Type1</td>\n",
       "      <td>2097.2700</td>\n",
       "    </tr>\n",
       "    <tr>\n",
       "      <th>3</th>\n",
       "      <td>FDX07</td>\n",
       "      <td>19.20</td>\n",
       "      <td>Regular</td>\n",
       "      <td>0.000000</td>\n",
       "      <td>Fruits and Vegetables</td>\n",
       "      <td>182.0950</td>\n",
       "      <td>OUT010</td>\n",
       "      <td>1998</td>\n",
       "      <td>NaN</td>\n",
       "      <td>Tier 3</td>\n",
       "      <td>Grocery Store</td>\n",
       "      <td>732.3800</td>\n",
       "    </tr>\n",
       "    <tr>\n",
       "      <th>4</th>\n",
       "      <td>NCD19</td>\n",
       "      <td>8.93</td>\n",
       "      <td>Low Fat</td>\n",
       "      <td>0.000000</td>\n",
       "      <td>Household</td>\n",
       "      <td>53.8614</td>\n",
       "      <td>OUT013</td>\n",
       "      <td>1987</td>\n",
       "      <td>High</td>\n",
       "      <td>Tier 3</td>\n",
       "      <td>Supermarket Type1</td>\n",
       "      <td>994.7052</td>\n",
       "    </tr>\n",
       "  </tbody>\n",
       "</table>\n",
       "</div>"
      ],
      "text/plain": [
       "  Item_Identifier  Item_Weight Item_Fat_Content  Item_Visibility  \\\n",
       "0           FDA15         9.30          Low Fat         0.016047   \n",
       "1           DRC01         5.92          Regular         0.019278   \n",
       "2           FDN15        17.50          Low Fat         0.016760   \n",
       "3           FDX07        19.20          Regular         0.000000   \n",
       "4           NCD19         8.93          Low Fat         0.000000   \n",
       "\n",
       "               Item_Type  Item_MRP Outlet_Identifier  \\\n",
       "0                  Dairy  249.8092            OUT049   \n",
       "1            Soft Drinks   48.2692            OUT018   \n",
       "2                   Meat  141.6180            OUT049   \n",
       "3  Fruits and Vegetables  182.0950            OUT010   \n",
       "4              Household   53.8614            OUT013   \n",
       "\n",
       "   Outlet_Establishment_Year Outlet_Size Outlet_Location_Type  \\\n",
       "0                       1999      Medium               Tier 1   \n",
       "1                       2009      Medium               Tier 3   \n",
       "2                       1999      Medium               Tier 1   \n",
       "3                       1998         NaN               Tier 3   \n",
       "4                       1987        High               Tier 3   \n",
       "\n",
       "         Outlet_Type  Item_Outlet_Sales  \n",
       "0  Supermarket Type1          3735.1380  \n",
       "1  Supermarket Type2           443.4228  \n",
       "2  Supermarket Type1          2097.2700  \n",
       "3      Grocery Store           732.3800  \n",
       "4  Supermarket Type1           994.7052  "
      ]
     },
     "execution_count": 3,
     "metadata": {},
     "output_type": "execute_result"
    }
   ],
   "source": [
    "df=pd.read_csv('big_mart_sales - big_mart_sales.csv')\n",
    "df.head()"
   ]
  },
  {
   "cell_type": "markdown",
   "id": "e9ade471",
   "metadata": {},
   "source": [
    "---\n",
    "## 🧠 Scenario 1: Complex Filtering with Multiple Conditions"
   ]
  },
  {
   "cell_type": "markdown",
   "id": "6340d9af",
   "metadata": {},
   "source": [
    "### Problem Statement:\n",
    "Find items where:\n",
    "- Sales are above 90th percentile\n",
    "- Item_MRP is within 10% of its mean\n",
    "- Item_Visibility is below median"
   ]
  },
  {
   "cell_type": "markdown",
   "id": "447f3f0e",
   "metadata": {},
   "source": [
    "### ✍️ Your Task:"
   ]
  },
  {
   "cell_type": "code",
   "execution_count": null,
   "id": "8fb03c37",
   "metadata": {},
   "outputs": [],
   "source": [
    "# TODO: Implement combined filtering using quantiles, np.isclose, and boolean indexing"
   ]
  },
  {
   "cell_type": "code",
   "execution_count": 5,
   "id": "b8c5c14b-07d7-4309-a591-65049be6d357",
   "metadata": {},
   "outputs": [],
   "source": [
    "sales_90=df['Item_Outlet_Sales'].quantile(0.90)   #used quantile for sales 90th percentile"
   ]
  },
  {
   "cell_type": "code",
   "execution_count": 7,
   "id": "0beb7e8c-2e55-4cef-b3c7-17621d2cf97a",
   "metadata": {},
   "outputs": [],
   "source": [
    "mrp_mean=df['Item_MRP'].mean()"
   ]
  },
  {
   "cell_type": "code",
   "execution_count": 9,
   "id": "eeeb7f34-b2fe-44fc-918b-d129d8cb5001",
   "metadata": {},
   "outputs": [],
   "source": [
    "visibility_median=df['Item_Visibility'].median()"
   ]
  },
  {
   "cell_type": "code",
   "execution_count": 21,
   "id": "31e7fad7-604f-46c6-8523-c87d56f9d2a2",
   "metadata": {},
   "outputs": [
    {
     "name": "stdout",
     "output_type": "stream",
     "text": [
      "item displayed 22 \n",
      "\n",
      "     Item_Identifier  Item_Weight Item_Fat_Content  Item_Visibility  \\\n",
      "54             NCP18        12.15          Low Fat         0.028760   \n",
      "844            FDV01          NaN          Regular         0.000000   \n",
      "1173           FDH57          NaN          Low Fat         0.035574   \n",
      "2355           FDR15         9.30          Regular         0.033432   \n",
      "2863           FDS16          NaN          Regular         0.000000   \n",
      "\n",
      "                  Item_Type  Item_MRP Outlet_Identifier  \\\n",
      "54                Household  151.4708            OUT017   \n",
      "844                  Canned  154.6314            OUT027   \n",
      "1173  Fruits and Vegetables  131.4284            OUT027   \n",
      "2355                   Meat  153.1314            OUT035   \n",
      "2863           Frozen Foods  145.2760            OUT027   \n",
      "\n",
      "      Outlet_Establishment_Year Outlet_Size Outlet_Location_Type  \\\n",
      "54                         2007         NaN               Tier 2   \n",
      "844                        1985      Medium               Tier 3   \n",
      "1173                       1985      Medium               Tier 3   \n",
      "2355                       2004       Small               Tier 2   \n",
      "2863                       1985      Medium               Tier 3   \n",
      "\n",
      "            Outlet_Type  Item_Outlet_Sales  \n",
      "54    Supermarket Type1          4815.0656  \n",
      "844   Supermarket Type3          6515.5188  \n",
      "1173  Supermarket Type3          5404.9644  \n",
      "2355  Supermarket Type1          4653.9420  \n",
      "2863  Supermarket Type3          5273.1360  \n"
     ]
    }
   ],
   "source": [
    "#todo\n",
    "\n",
    "item=df[(df['Item_Outlet_Sales'] > sales_90) &\n",
    "                (np.isclose(df['Item_MRP'],mrp_mean,rtol=0.1)) &\n",
    "                (df['Item_Visibility'] < visibility_median)]\n",
    "\n",
    "\n",
    "print(\"item displayed\",len(item),\"\\n\")\n",
    "print(item.head())"
   ]
  },
  {
   "cell_type": "markdown",
   "id": "dfde9845",
   "metadata": {},
   "source": [
    "---\n",
    "## 📈 Scenario 2: Custom Aggregation Functions"
   ]
  },
  {
   "cell_type": "markdown",
   "id": "130ece38",
   "metadata": {},
   "source": [
    "### Problem Statement:\n",
    "Group data by `Outlet_Type` and calculate:\n",
    "- Mean, Std Dev of Sales\n",
    "- 25th and 75th percentiles\n",
    "- Count of high selling products (>5000)"
   ]
  },
  {
   "cell_type": "code",
   "execution_count": null,
   "id": "fd20caa1-7ab4-45b2-8bae-3b705d78d56a",
   "metadata": {},
   "outputs": [],
   "source": [
    "###### ✍️ Your Task:"
   ]
  },
  {
   "cell_type": "code",
   "execution_count": null,
   "id": "ae07f81c",
   "metadata": {},
   "outputs": [],
   "source": [
    "# TODO: Use .agg() with custom lambdas and np.percentile\n",
    "# Create a summary DataFrame"
   ]
  },
  {
   "cell_type": "code",
   "execution_count": 29,
   "id": "5139cf9a-045d-47b1-9978-796c7cbd246e",
   "metadata": {},
   "outputs": [],
   "source": [
    "data_fr=df.groupby('Outlet_Type')['Item_Outlet_Sales'].agg(\n",
    "            mean_sales='mean',\n",
    "            std_sales='std',\n",
    "            q1=lambda x : np.percentile(x,25),\n",
    "            q2=lambda x :np.percentile(x,75),\n",
    "            high_sales= lambda x : (x >5000).sum()).reset_index()"
   ]
  },
  {
   "cell_type": "code",
   "execution_count": 31,
   "id": "b13d8270-6fdf-4344-a22a-d1df109810fc",
   "metadata": {},
   "outputs": [
    {
     "name": "stdout",
     "output_type": "stream",
     "text": [
      "         Outlet_Type   mean_sales    std_sales          q1          q2  \\\n",
      "0      Grocery Store   339.828500   260.851582   153.79980   458.73620   \n",
      "1  Supermarket Type1  2316.181148  1515.965558  1151.16820  3135.91800   \n",
      "2  Supermarket Type2  1995.498739  1375.932889   981.55565  2702.64865   \n",
      "3  Supermarket Type3  3694.038558  2127.760054  2044.33890  4975.52340   \n",
      "\n",
      "   high_sales  \n",
      "0           0  \n",
      "1         359  \n",
      "2          39  \n",
      "3         231  \n"
     ]
    }
   ],
   "source": [
    "print(data_fr)"
   ]
  },
  {
   "cell_type": "markdown",
   "id": "9d1e00ef",
   "metadata": {},
   "source": [
    "---\n",
    "## 🧪 Scenario 3: Row-wise Operations and Conditional Tagging"
   ]
  },
  {
   "cell_type": "markdown",
   "id": "b851a91f",
   "metadata": {},
   "source": [
    "### Problem Statement:\n",
    "Tag each row as:\n",
    "- 'High Performer' if Sales > 90th percentile AND Item_MRP > 75th percentile\n",
    "- 'Average' otherwise"
   ]
  },
  {
   "cell_type": "markdown",
   "id": "06138fee",
   "metadata": {},
   "source": [
    "### ✍️ Your Task:"
   ]
  },
  {
   "cell_type": "code",
   "execution_count": null,
   "id": "d8dead1e",
   "metadata": {},
   "outputs": [],
   "source": [
    "# TODO: Use np.select or np.where to classify each row\n",
    "# Create a new column `Performance_Tag`"
   ]
  },
  {
   "cell_type": "code",
   "execution_count": 39,
   "id": "3e918f77-c6bc-484d-91a3-bddc88162b12",
   "metadata": {},
   "outputs": [],
   "source": [
    "sales_quant=df['Item_Outlet_Sales'].quantile(0.90)\n",
    "mrp_quant=df['Item_MRP'].quantile(0.75)\n",
    "\n",
    "performer=(df['Item_Outlet_Sales'] >sales_quant) & (df['Item_MRP'] > mrp_quant)"
   ]
  },
  {
   "cell_type": "code",
   "execution_count": 41,
   "id": "c6cdbb09-af16-4327-be9d-6836b9e923f0",
   "metadata": {},
   "outputs": [],
   "source": [
    "df['performance tag']=np.where(performer,\"high performer\",\"average\")"
   ]
  },
  {
   "cell_type": "code",
   "execution_count": 43,
   "id": "cd80a6dd-6475-4c6c-b8b6-09444fc57cdc",
   "metadata": {},
   "outputs": [
    {
     "data": {
      "text/html": [
       "<div>\n",
       "<style scoped>\n",
       "    .dataframe tbody tr th:only-of-type {\n",
       "        vertical-align: middle;\n",
       "    }\n",
       "\n",
       "    .dataframe tbody tr th {\n",
       "        vertical-align: top;\n",
       "    }\n",
       "\n",
       "    .dataframe thead th {\n",
       "        text-align: right;\n",
       "    }\n",
       "</style>\n",
       "<table border=\"1\" class=\"dataframe\">\n",
       "  <thead>\n",
       "    <tr style=\"text-align: right;\">\n",
       "      <th></th>\n",
       "      <th>Item_Identifier</th>\n",
       "      <th>Item_Weight</th>\n",
       "      <th>Item_Fat_Content</th>\n",
       "      <th>Item_Visibility</th>\n",
       "      <th>Item_Type</th>\n",
       "      <th>Item_MRP</th>\n",
       "      <th>Outlet_Identifier</th>\n",
       "      <th>Outlet_Establishment_Year</th>\n",
       "      <th>Outlet_Size</th>\n",
       "      <th>Outlet_Location_Type</th>\n",
       "      <th>Outlet_Type</th>\n",
       "      <th>Item_Outlet_Sales</th>\n",
       "      <th>performance tag</th>\n",
       "    </tr>\n",
       "  </thead>\n",
       "  <tbody>\n",
       "    <tr>\n",
       "      <th>0</th>\n",
       "      <td>FDA15</td>\n",
       "      <td>9.30</td>\n",
       "      <td>Low Fat</td>\n",
       "      <td>0.016047</td>\n",
       "      <td>Dairy</td>\n",
       "      <td>249.8092</td>\n",
       "      <td>OUT049</td>\n",
       "      <td>1999</td>\n",
       "      <td>Medium</td>\n",
       "      <td>Tier 1</td>\n",
       "      <td>Supermarket Type1</td>\n",
       "      <td>3735.1380</td>\n",
       "      <td>average</td>\n",
       "    </tr>\n",
       "    <tr>\n",
       "      <th>1</th>\n",
       "      <td>DRC01</td>\n",
       "      <td>5.92</td>\n",
       "      <td>Regular</td>\n",
       "      <td>0.019278</td>\n",
       "      <td>Soft Drinks</td>\n",
       "      <td>48.2692</td>\n",
       "      <td>OUT018</td>\n",
       "      <td>2009</td>\n",
       "      <td>Medium</td>\n",
       "      <td>Tier 3</td>\n",
       "      <td>Supermarket Type2</td>\n",
       "      <td>443.4228</td>\n",
       "      <td>average</td>\n",
       "    </tr>\n",
       "    <tr>\n",
       "      <th>2</th>\n",
       "      <td>FDN15</td>\n",
       "      <td>17.50</td>\n",
       "      <td>Low Fat</td>\n",
       "      <td>0.016760</td>\n",
       "      <td>Meat</td>\n",
       "      <td>141.6180</td>\n",
       "      <td>OUT049</td>\n",
       "      <td>1999</td>\n",
       "      <td>Medium</td>\n",
       "      <td>Tier 1</td>\n",
       "      <td>Supermarket Type1</td>\n",
       "      <td>2097.2700</td>\n",
       "      <td>average</td>\n",
       "    </tr>\n",
       "    <tr>\n",
       "      <th>3</th>\n",
       "      <td>FDX07</td>\n",
       "      <td>19.20</td>\n",
       "      <td>Regular</td>\n",
       "      <td>0.000000</td>\n",
       "      <td>Fruits and Vegetables</td>\n",
       "      <td>182.0950</td>\n",
       "      <td>OUT010</td>\n",
       "      <td>1998</td>\n",
       "      <td>NaN</td>\n",
       "      <td>Tier 3</td>\n",
       "      <td>Grocery Store</td>\n",
       "      <td>732.3800</td>\n",
       "      <td>average</td>\n",
       "    </tr>\n",
       "    <tr>\n",
       "      <th>4</th>\n",
       "      <td>NCD19</td>\n",
       "      <td>8.93</td>\n",
       "      <td>Low Fat</td>\n",
       "      <td>0.000000</td>\n",
       "      <td>Household</td>\n",
       "      <td>53.8614</td>\n",
       "      <td>OUT013</td>\n",
       "      <td>1987</td>\n",
       "      <td>High</td>\n",
       "      <td>Tier 3</td>\n",
       "      <td>Supermarket Type1</td>\n",
       "      <td>994.7052</td>\n",
       "      <td>average</td>\n",
       "    </tr>\n",
       "  </tbody>\n",
       "</table>\n",
       "</div>"
      ],
      "text/plain": [
       "  Item_Identifier  Item_Weight Item_Fat_Content  Item_Visibility  \\\n",
       "0           FDA15         9.30          Low Fat         0.016047   \n",
       "1           DRC01         5.92          Regular         0.019278   \n",
       "2           FDN15        17.50          Low Fat         0.016760   \n",
       "3           FDX07        19.20          Regular         0.000000   \n",
       "4           NCD19         8.93          Low Fat         0.000000   \n",
       "\n",
       "               Item_Type  Item_MRP Outlet_Identifier  \\\n",
       "0                  Dairy  249.8092            OUT049   \n",
       "1            Soft Drinks   48.2692            OUT018   \n",
       "2                   Meat  141.6180            OUT049   \n",
       "3  Fruits and Vegetables  182.0950            OUT010   \n",
       "4              Household   53.8614            OUT013   \n",
       "\n",
       "   Outlet_Establishment_Year Outlet_Size Outlet_Location_Type  \\\n",
       "0                       1999      Medium               Tier 1   \n",
       "1                       2009      Medium               Tier 3   \n",
       "2                       1999      Medium               Tier 1   \n",
       "3                       1998         NaN               Tier 3   \n",
       "4                       1987        High               Tier 3   \n",
       "\n",
       "         Outlet_Type  Item_Outlet_Sales performance tag  \n",
       "0  Supermarket Type1          3735.1380         average  \n",
       "1  Supermarket Type2           443.4228         average  \n",
       "2  Supermarket Type1          2097.2700         average  \n",
       "3      Grocery Store           732.3800         average  \n",
       "4  Supermarket Type1           994.7052         average  "
      ]
     },
     "execution_count": 43,
     "metadata": {},
     "output_type": "execute_result"
    }
   ],
   "source": [
    "df.head()"
   ]
  },
  {
   "cell_type": "markdown",
   "id": "6aa8c0b2",
   "metadata": {},
   "source": [
    "---\n",
    "## 🧵 Scenario 4: Pivot Table & Reshaping"
   ]
  },
  {
   "cell_type": "markdown",
   "id": "b0110817",
   "metadata": {},
   "source": [
    "### Problem Statement:\n",
    "Create a pivot table showing average `Item_Outlet_Sales` by `Item_Type` and `Outlet_Type`.\n",
    "Then, unstack the result and fill missing values with 0."
   ]
  },
  {
   "cell_type": "markdown",
   "id": "6aa4af5f",
   "metadata": {},
   "source": [
    "### ✍️ Your Task:"
   ]
  },
  {
   "cell_type": "code",
   "execution_count": null,
   "id": "bd889f8c",
   "metadata": {},
   "outputs": [],
   "source": [
    "# TODO: Use pd.pivot_table and unstack with fillna"
   ]
  },
  {
   "cell_type": "code",
   "execution_count": 51,
   "id": "140d30c7-04b2-4f84-b4ed-ed828cf44dbb",
   "metadata": {},
   "outputs": [],
   "source": [
    "pt=pd.pivot_table(df, values='Item_Outlet_Sales',\n",
    "                  columns='Outlet_Type',index='Item_Type',aggfunc='mean')"
   ]
  },
  {
   "cell_type": "code",
   "execution_count": 55,
   "id": "03b1ddae-d044-4b80-9eed-9d25787b2550",
   "metadata": {},
   "outputs": [],
   "source": [
    "reshap_table=pt.unstack().fillna(0)"
   ]
  },
  {
   "cell_type": "code",
   "execution_count": 57,
   "id": "7079b66d-e3f1-4036-a4ff-2ec9b0ea5522",
   "metadata": {},
   "outputs": [
    {
     "name": "stdout",
     "output_type": "stream",
     "text": [
      "Outlet_Type        Item_Type    \n",
      "Grocery Store      Baking Goods      292.082544\n",
      "                   Breads            381.967442\n",
      "                   Breakfast         412.831042\n",
      "                   Canned            352.864879\n",
      "                   Dairy             341.866589\n",
      "                                       ...     \n",
      "Supermarket Type3  Others           2700.928667\n",
      "                   Seafood          2687.073686\n",
      "                   Snack Foods      3745.168739\n",
      "                   Soft Drinks      3284.938836\n",
      "                   Starchy Foods    3512.190114\n",
      "Length: 64, dtype: float64\n"
     ]
    }
   ],
   "source": [
    "print(reshap_table)"
   ]
  },
  {
   "cell_type": "markdown",
   "id": "ab79c23f",
   "metadata": {},
   "source": [
    "---\n",
    "## 🪜 Scenario 5: Memory Optimization and Dtype Inference"
   ]
  },
  {
   "cell_type": "markdown",
   "id": "74a8655b",
   "metadata": {},
   "source": [
    "### Problem Statement:\n",
    "- Find top 5 columns with largest memory usage\n",
    "- Optimize their datatypes (e.g., float32 instead of float64)\n",
    "- Calculate memory usage before and after"
   ]
  },
  {
   "cell_type": "markdown",
   "id": "b151ec08",
   "metadata": {},
   "source": [
    "### ✍️ Your Task:"
   ]
  },
  {
   "cell_type": "code",
   "execution_count": null,
   "id": "4a1f8efa",
   "metadata": {},
   "outputs": [],
   "source": [
    "# TODO: Use df.memory_usage(), convert dtypes, compare usage"
   ]
  },
  {
   "cell_type": "code",
   "execution_count": 61,
   "id": "80a9a5be-e0f2-407a-97c3-8625e5acfb87",
   "metadata": {},
   "outputs": [
    {
     "name": "stdout",
     "output_type": "stream",
     "text": [
      " memory optimization before : 3.98 GB \n"
     ]
    }
   ],
   "source": [
    "before=df.memory_usage(deep=True).sum() /1024**2\n",
    "print(f\" memory optimization before : {before:.2f} GB \")"
   ]
  },
  {
   "cell_type": "code",
   "execution_count": 63,
   "id": "4630feee-c56c-432b-acb2-b4f33fcaa270",
   "metadata": {},
   "outputs": [
    {
     "name": "stdout",
     "output_type": "stream",
     "text": [
      "After optimization: 1.65 MB\n",
      "Reduced by: 2.34 MB\n"
     ]
    }
   ],
   "source": [
    "top_cols = df.memory_usage(deep=True).sort_values(ascending=False).head(5).index\n",
    "\n",
    "for col in top_cols:\n",
    "    if df[col].dtype == 'float64':\n",
    "        df[col] = df[col].astype('float32')\n",
    "    elif df[col].dtype == 'int64':\n",
    "        df[col] = df[col].astype('int32')\n",
    "    elif df[col].dtype == 'object':\n",
    "        df[col] = df[col].astype('category')\n",
    "\n",
    "# Memory usage after\n",
    "after = df.memory_usage(deep=True).sum() / 1024**2\n",
    "print(f\"After optimization: {after:.2f} MB\")\n",
    "print(f\"Reduced by: {before - after:.2f} MB\")\n"
   ]
  },
  {
   "cell_type": "markdown",
   "id": "72099c40",
   "metadata": {},
   "source": [
    "---\n",
    "## 🌀 Scenario 6: MultiIndex Operations"
   ]
  },
  {
   "cell_type": "markdown",
   "id": "12ce1a76",
   "metadata": {},
   "source": [
    "### Problem Statement:\n",
    "Set a multi-index with `Outlet_Identifier` and `Item_Type`.\n",
    "Then, retrieve all rows for OUT049 and all Dairy products."
   ]
  },
  {
   "cell_type": "markdown",
   "id": "301a30b0",
   "metadata": {},
   "source": [
    "### ✍️ Your Task:"
   ]
  },
  {
   "cell_type": "code",
   "execution_count": null,
   "id": "a7115426",
   "metadata": {},
   "outputs": [],
   "source": [
    "# TODO: Use .set_index() and .loc[] to extract multi-indexed slices"
   ]
  },
  {
   "cell_type": "code",
   "execution_count": 65,
   "id": "2342f38e-eab5-402b-925e-c62b53398c61",
   "metadata": {},
   "outputs": [],
   "source": [
    "ind=df.set_index(['Outlet_Identifier','Item_Type'])\n",
    "multi=ind.loc['OUT049']"
   ]
  },
  {
   "cell_type": "code",
   "execution_count": 67,
   "id": "22ba5f00-640c-4bba-946b-fe9f2a457c13",
   "metadata": {},
   "outputs": [],
   "source": [
    "dairy_rows = ind.xs('Dairy', level='Item_Type')"
   ]
  },
  {
   "cell_type": "code",
   "execution_count": 69,
   "id": "8837e4f2-164f-4864-802c-2b2bfd5d6abb",
   "metadata": {},
   "outputs": [
    {
     "name": "stdout",
     "output_type": "stream",
     "text": [
      "                      Item_Identifier  Item_Weight Item_Fat_Content  \\\n",
      "Item_Type                                                             \n",
      "Dairy                           FDA15        9.300          Low Fat   \n",
      "Meat                            FDN15       17.500          Low Fat   \n",
      "Fruits and Vegetables           FDY07       11.800          Low Fat   \n",
      "Fruits and Vegetables           FDX32       15.100          Regular   \n",
      "Breakfast                       FDP49        9.000          Regular   \n",
      "...                               ...          ...              ...   \n",
      "Snack Foods                     FDK21        7.905          Low Fat   \n",
      "Fruits and Vegetables           FDV31        9.800               LF   \n",
      "Meat                            FDW27        5.860          Regular   \n",
      "Health and Hygiene              NCS17       18.600          Low Fat   \n",
      "Snack Foods                     FDL10        8.395          Low Fat   \n",
      "\n",
      "                       Item_Visibility  Item_MRP  Outlet_Establishment_Year  \\\n",
      "Item_Type                                                                     \n",
      "Dairy                         0.016047  249.8092                       1999   \n",
      "Meat                          0.016760  141.6180                       1999   \n",
      "Fruits and Vegetables         0.000000   45.5402                       1999   \n",
      "Fruits and Vegetables         0.100014  145.4786                       1999   \n",
      "Breakfast                     0.069196   54.3614                       1999   \n",
      "...                                ...       ...                        ...   \n",
      "Snack Foods                   0.010028  249.6408                       1999   \n",
      "Fruits and Vegetables         0.000000  175.2370                       1999   \n",
      "Meat                          0.151088  155.1314                       1999   \n",
      "Health and Hygiene            0.080627   92.5436                       1999   \n",
      "Snack Foods                   0.039554   99.1042                       1999   \n",
      "\n",
      "                      Outlet_Size Outlet_Location_Type        Outlet_Type  \\\n",
      "Item_Type                                                                   \n",
      "Dairy                      Medium               Tier 1  Supermarket Type1   \n",
      "Meat                       Medium               Tier 1  Supermarket Type1   \n",
      "Fruits and Vegetables      Medium               Tier 1  Supermarket Type1   \n",
      "Fruits and Vegetables      Medium               Tier 1  Supermarket Type1   \n",
      "Breakfast                  Medium               Tier 1  Supermarket Type1   \n",
      "...                           ...                  ...                ...   \n",
      "Snack Foods                Medium               Tier 1  Supermarket Type1   \n",
      "Fruits and Vegetables      Medium               Tier 1  Supermarket Type1   \n",
      "Meat                       Medium               Tier 1  Supermarket Type1   \n",
      "Health and Hygiene         Medium               Tier 1  Supermarket Type1   \n",
      "Snack Foods                Medium               Tier 1  Supermarket Type1   \n",
      "\n",
      "                       Item_Outlet_Sales performance tag  \n",
      "Item_Type                                                 \n",
      "Dairy                          3735.1380         average  \n",
      "Meat                           2097.2700         average  \n",
      "Fruits and Vegetables          1516.0266         average  \n",
      "Fruits and Vegetables          1589.2646         average  \n",
      "Breakfast                       718.3982         average  \n",
      "...                                  ...             ...  \n",
      "Snack Foods                    3254.4304         average  \n",
      "Fruits and Vegetables          3881.6140         average  \n",
      "Meat                           1551.3140         average  \n",
      "Health and Hygiene              378.1744         average  \n",
      "Snack Foods                    2579.3092         average  \n",
      "\n",
      "[930 rows x 11 columns]\n"
     ]
    }
   ],
   "source": [
    "print(multi)"
   ]
  },
  {
   "cell_type": "code",
   "execution_count": 71,
   "id": "fb50ac60-2cb7-4129-81ed-5a3df745a7cb",
   "metadata": {},
   "outputs": [
    {
     "name": "stdout",
     "output_type": "stream",
     "text": [
      "                  Item_Identifier  Item_Weight Item_Fat_Content  \\\n",
      "Outlet_Identifier                                                 \n",
      "OUT049                      FDA15        9.300          Low Fat   \n",
      "OUT046                      FDA03       18.500          Regular   \n",
      "OUT035                      FDU02       13.350          Low Fat   \n",
      "OUT010                      FDE51        5.925          Regular   \n",
      "OUT010                      FDV38       19.250          Low Fat   \n",
      "...                           ...          ...              ...   \n",
      "OUT035                      FDC39        7.405          Low Fat   \n",
      "OUT017                      FDS26       20.350          Low Fat   \n",
      "OUT018                      FDV50       14.300          Low Fat   \n",
      "OUT035                      FDY50        5.800          Low Fat   \n",
      "OUT013                      FDR26       20.700          Low Fat   \n",
      "\n",
      "                   Item_Visibility  Item_MRP  Outlet_Establishment_Year  \\\n",
      "Outlet_Identifier                                                         \n",
      "OUT049                    0.016047  249.8092                       1999   \n",
      "OUT046                    0.045464  144.1102                       1997   \n",
      "OUT035                    0.102492  230.5352                       2004   \n",
      "OUT010                    0.161467   45.5086                       1998   \n",
      "OUT010                    0.170349   55.7956                       1998   \n",
      "...                            ...       ...                        ...   \n",
      "OUT035                    0.159165  207.1296                       2004   \n",
      "OUT017                    0.089975  261.6594                       2007   \n",
      "OUT018                    0.123071  121.1730                       2009   \n",
      "OUT035                    0.130931   89.9172                       2004   \n",
      "OUT013                    0.042801  178.3028                       1987   \n",
      "\n",
      "                  Outlet_Size Outlet_Location_Type        Outlet_Type  \\\n",
      "Outlet_Identifier                                                       \n",
      "OUT049                 Medium               Tier 1  Supermarket Type1   \n",
      "OUT046                  Small               Tier 1  Supermarket Type1   \n",
      "OUT035                  Small               Tier 2  Supermarket Type1   \n",
      "OUT010                    NaN               Tier 3      Grocery Store   \n",
      "OUT010                    NaN               Tier 3      Grocery Store   \n",
      "...                       ...                  ...                ...   \n",
      "OUT035                  Small               Tier 2  Supermarket Type1   \n",
      "OUT017                    NaN               Tier 2  Supermarket Type1   \n",
      "OUT018                 Medium               Tier 3  Supermarket Type2   \n",
      "OUT035                  Small               Tier 2  Supermarket Type1   \n",
      "OUT013                   High               Tier 3  Supermarket Type1   \n",
      "\n",
      "                   Item_Outlet_Sales performance tag  \n",
      "Outlet_Identifier                                     \n",
      "OUT049                     3735.1380         average  \n",
      "OUT046                     2187.1530         average  \n",
      "OUT035                     2748.4224         average  \n",
      "OUT010                      178.4344         average  \n",
      "OUT010                      163.7868         average  \n",
      "...                              ...             ...  \n",
      "OUT035                     3739.1328         average  \n",
      "OUT017                     7588.1226  high performer  \n",
      "OUT018                     2093.9410         average  \n",
      "OUT035                     1516.6924         average  \n",
      "OUT013                     2479.4392         average  \n",
      "\n",
      "[682 rows x 11 columns]\n"
     ]
    }
   ],
   "source": [
    "print(dairy_rows)"
   ]
  },
  {
   "cell_type": "markdown",
   "id": "54e65dff",
   "metadata": {},
   "source": [
    "---\n",
    "## 🔁 Scenario 7: Exploding Lists and Normalizing Nested Structures"
   ]
  },
  {
   "cell_type": "markdown",
   "id": "9e5d24e6",
   "metadata": {},
   "source": [
    "### Problem Statement:\n",
    "Assume a column contains lists of promo tags like ['summer', 'festival'].\n",
    "Explode the list into separate rows."
   ]
  },
  {
   "cell_type": "markdown",
   "id": "10b5ff03",
   "metadata": {},
   "source": [
    "### ✍️ Your Task:"
   ]
  },
  {
   "cell_type": "code",
   "execution_count": null,
   "id": "912a69f9",
   "metadata": {},
   "outputs": [],
   "source": [
    "# TODO: Simulate a column with lists and use .explode() to normalize"
   ]
  },
  {
   "cell_type": "code",
   "execution_count": 73,
   "id": "875e65ca-9755-4b80-b1a5-a418ccfa12fe",
   "metadata": {},
   "outputs": [
    {
     "name": "stdout",
     "output_type": "stream",
     "text": [
      "Original DataFrame:\n",
      "  Item_ID          Promo_Tags\n",
      "0    A101  [summer, festival]\n",
      "1    A102         [clearance]\n",
      "2    A103  [winter, new year]\n",
      "\n",
      "Exploded DataFrame:\n",
      "  Item_ID Promo_Tags\n",
      "0    A101     summer\n",
      "0    A101   festival\n",
      "1    A102  clearance\n",
      "2    A103     winter\n",
      "2    A103   new year\n"
     ]
    }
   ],
   "source": [
    "data = {\n",
    "    'Item_ID': ['A101', 'A102', 'A103'],\n",
    "    'Promo_Tags': [['summer', 'festival'], ['clearance'], ['winter', 'new year']]\n",
    "}\n",
    "\n",
    "df = pd.DataFrame(data)\n",
    "\n",
    "print(\"Original DataFrame:\")\n",
    "print(df)\n",
    "\n",
    "# Explode the list into separate rows\n",
    "df_exploded = df.explode('Promo_Tags')\n",
    "\n",
    "print(\"\\nExploded DataFrame:\")\n",
    "print(df_exploded)"
   ]
  },
  {
   "cell_type": "markdown",
   "id": "547e0fc0",
   "metadata": {},
   "source": [
    "---\n",
    "## 🧩 Final Thoughts:\n",
    "Make sure to:\n",
    "- Comment your logic clearly\n",
    "- Validate shapes and nulls after operations\n",
    "- Avoid chained indexing"
   ]
  },
  {
   "cell_type": "code",
   "execution_count": 75,
   "id": "25191b19",
   "metadata": {},
   "outputs": [
    {
     "name": "stdout",
     "output_type": "stream",
     "text": [
      "✅ Great job! Submit your completed .ipynb file.\n"
     ]
    }
   ],
   "source": [
    "print(\"✅ Great job! Submit your completed .ipynb file.\")"
   ]
  },
  {
   "cell_type": "code",
   "execution_count": null,
   "id": "6841625c-20dc-4683-b2c4-6843e020365c",
   "metadata": {},
   "outputs": [],
   "source": []
  }
 ],
 "metadata": {
  "kernelspec": {
   "display_name": "Python 3 (ipykernel)",
   "language": "python",
   "name": "python3"
  },
  "language_info": {
   "codemirror_mode": {
    "name": "ipython",
    "version": 3
   },
   "file_extension": ".py",
   "mimetype": "text/x-python",
   "name": "python",
   "nbconvert_exporter": "python",
   "pygments_lexer": "ipython3",
   "version": "3.12.4"
  }
 },
 "nbformat": 4,
 "nbformat_minor": 5
}
