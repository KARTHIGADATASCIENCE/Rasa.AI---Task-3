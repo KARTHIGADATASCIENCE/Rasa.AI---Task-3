{
 "cells": [
  {
   "cell_type": "markdown",
   "metadata": {},
   "source": [
    "---\n",
    "---\n",
    "\n",
    "<center> <h1>📍 📍 Assignment: Reading Files 📍 📍</h1> </center>\n",
    "\n",
    "---\n",
    "\n",
    "#### `1. READ THE BIG MART SALES DATA`\n",
    "\n",
    "---"
   ]
  },
  {
   "cell_type": "code",
   "execution_count": 4,
   "metadata": {},
   "outputs": [],
   "source": [
    "import pandas as pd"
   ]
  },
  {
   "cell_type": "code",
   "execution_count": 10,
   "metadata": {},
   "outputs": [],
   "source": [
    "data = pd.read_csv('dataset/big_mart_sales.csv')"
   ]
  },
  {
   "cell_type": "markdown",
   "metadata": {},
   "source": [
    "---\n",
    "\n",
    "***So, we are getting an error. You task is to find out the error and read the file using pandas. Here is the screenshot of the CSV file.***\n",
    "\n",
    "![](images/csv.png)\n",
    "\n",
    "---"
   ]
  },
  {
   "cell_type": "code",
   "execution_count": 20,
   "metadata": {},
   "outputs": [
    {
     "data": {
      "text/html": [
       "<div>\n",
       "<style scoped>\n",
       "    .dataframe tbody tr th:only-of-type {\n",
       "        vertical-align: middle;\n",
       "    }\n",
       "\n",
       "    .dataframe tbody tr th {\n",
       "        vertical-align: top;\n",
       "    }\n",
       "\n",
       "    .dataframe thead th {\n",
       "        text-align: right;\n",
       "    }\n",
       "</style>\n",
       "<table border=\"1\" class=\"dataframe\">\n",
       "  <thead>\n",
       "    <tr style=\"text-align: right;\">\n",
       "      <th></th>\n",
       "      <th></th>\n",
       "      <th></th>\n",
       "      <th></th>\n",
       "      <th></th>\n",
       "      <th></th>\n",
       "      <th></th>\n",
       "      <th></th>\n",
       "      <th></th>\n",
       "      <th></th>\n",
       "      <th>Hence</th>\n",
       "      <th>it will be required to treat them accordingly.</th>\n",
       "    </tr>\n",
       "  </thead>\n",
       "  <tbody>\n",
       "    <tr>\n",
       "      <th>Item_Identifier</th>\n",
       "      <th>Item_Weight</th>\n",
       "      <th>Item_Fat_Content</th>\n",
       "      <th>Item_Visibility</th>\n",
       "      <th>Item_Type</th>\n",
       "      <th>Item_MRP</th>\n",
       "      <th>Outlet_Identifier</th>\n",
       "      <th>Outlet_Establishment_Year</th>\n",
       "      <th>Outlet_Size</th>\n",
       "      <th>Outlet_Location_Type</th>\n",
       "      <td>Outlet_Type</td>\n",
       "      <td>Item_Outlet_Sales</td>\n",
       "    </tr>\n",
       "    <tr>\n",
       "      <th>FDA15</th>\n",
       "      <th>9.3</th>\n",
       "      <th>Low Fat</th>\n",
       "      <th>0.016047301</th>\n",
       "      <th>Dairy</th>\n",
       "      <th>249.8092</th>\n",
       "      <th>OUT049</th>\n",
       "      <th>1999</th>\n",
       "      <th>Medium</th>\n",
       "      <th>Tier 1</th>\n",
       "      <td>Supermarket Type1</td>\n",
       "      <td>3735.138</td>\n",
       "    </tr>\n",
       "    <tr>\n",
       "      <th>DRC01</th>\n",
       "      <th>5.92</th>\n",
       "      <th>Regular</th>\n",
       "      <th>0.019278216</th>\n",
       "      <th>Soft Drinks</th>\n",
       "      <th>48.2692</th>\n",
       "      <th>OUT018</th>\n",
       "      <th>2009</th>\n",
       "      <th>Medium</th>\n",
       "      <th>Tier 3</th>\n",
       "      <td>Supermarket Type2</td>\n",
       "      <td>443.4228</td>\n",
       "    </tr>\n",
       "    <tr>\n",
       "      <th>FDN15</th>\n",
       "      <th>17.5</th>\n",
       "      <th>Low Fat</th>\n",
       "      <th>0.016760075</th>\n",
       "      <th>Meat</th>\n",
       "      <th>141.618</th>\n",
       "      <th>OUT049</th>\n",
       "      <th>1999</th>\n",
       "      <th>Medium</th>\n",
       "      <th>Tier 1</th>\n",
       "      <td>Supermarket Type1</td>\n",
       "      <td>2097.27</td>\n",
       "    </tr>\n",
       "    <tr>\n",
       "      <th>FDX07</th>\n",
       "      <th>19.2</th>\n",
       "      <th>Regular</th>\n",
       "      <th>0</th>\n",
       "      <th>Fruits and Vegetables</th>\n",
       "      <th>182.095</th>\n",
       "      <th>OUT010</th>\n",
       "      <th>1998</th>\n",
       "      <th>NaN</th>\n",
       "      <th>Tier 3</th>\n",
       "      <td>Grocery Store</td>\n",
       "      <td>732.38</td>\n",
       "    </tr>\n",
       "  </tbody>\n",
       "</table>\n",
       "</div>"
      ],
      "text/plain": [
       "                                                                                                                                                                                      Hence  \\\n",
       "Item_Identifier Item_Weight Item_Fat_Content Item_Visibility Item_Type             Item_MRP Outlet_Identifier Outlet_Establishment_Year Outlet_Size Outlet_Location_Type        Outlet_Type   \n",
       "FDA15           9.3         Low Fat          0.016047301     Dairy                 249.8092 OUT049            1999                      Medium      Tier 1                Supermarket Type1   \n",
       "DRC01           5.92        Regular          0.019278216     Soft Drinks           48.2692  OUT018            2009                      Medium      Tier 3                Supermarket Type2   \n",
       "FDN15           17.5        Low Fat          0.016760075     Meat                  141.618  OUT049            1999                      Medium      Tier 1                Supermarket Type1   \n",
       "FDX07           19.2        Regular          0               Fruits and Vegetables 182.095  OUT010            1998                      NaN         Tier 3                    Grocery Store   \n",
       "\n",
       "                                                                                                                                                                          it will be required to treat them accordingly.  \n",
       "Item_Identifier Item_Weight Item_Fat_Content Item_Visibility Item_Type             Item_MRP Outlet_Identifier Outlet_Establishment_Year Outlet_Size Outlet_Location_Type                               Item_Outlet_Sales  \n",
       "FDA15           9.3         Low Fat          0.016047301     Dairy                 249.8092 OUT049            1999                      Medium      Tier 1                                                      3735.138  \n",
       "DRC01           5.92        Regular          0.019278216     Soft Drinks           48.2692  OUT018            2009                      Medium      Tier 3                                                      443.4228  \n",
       "FDN15           17.5        Low Fat          0.016760075     Meat                  141.618  OUT049            1999                      Medium      Tier 1                                                       2097.27  \n",
       "FDX07           19.2        Regular          0               Fruits and Vegetables 182.095  OUT010            1998                      NaN         Tier 3                                                        732.38  "
      ]
     },
     "execution_count": 20,
     "metadata": {},
     "output_type": "execute_result"
    }
   ],
   "source": [
    "### WRITE YOUR CODE HERE\n",
    "df=pd.read_csv('big_mart_sales.csv',skiprows=3)\n",
    "data.head()"
   ]
  },
  {
   "cell_type": "markdown",
   "metadata": {},
   "source": [
    "----\n",
    "\n",
    "####  `2. READ THE JSON DATA`\n",
    "\n",
    "----"
   ]
  },
  {
   "cell_type": "code",
   "execution_count": null,
   "metadata": {},
   "outputs": [],
   "source": [
    "# read the json file\n",
    "json_data = pd.read_json('dataset/simple.json')"
   ]
  },
  {
   "cell_type": "markdown",
   "metadata": {},
   "source": [
    "---\n",
    "\n",
    "***Open the JSON file in the text editor and see what can you do to read the file.***\n",
    "\n",
    "---"
   ]
  },
  {
   "cell_type": "code",
   "execution_count": null,
   "metadata": {},
   "outputs": [],
   "source": [
    "#### WRITE YOUR CODE HERE"
   ]
  },
  {
   "cell_type": "code",
   "execution_count": 32,
   "metadata": {},
   "outputs": [
    {
     "name": "stdout",
     "output_type": "stream",
     "text": [
      "       name  age grade\n",
      "0     Andew   12     A\n",
      "1    Bhuvan   18     B\n",
      "2   Clinton   11     A\n",
      "3     Drake   12     C\n",
      "4     Eisha   13     B\n",
      "5    Farhan   22     C\n",
      "6    Garima   11     A\n",
      "7  Himanshu   19     A\n",
      "8    Ishaan   10     D\n",
      "9     Jason    9     B\n"
     ]
    }
   ],
   "source": [
    "js=pd.read_json('simple.json', lines=True)\n",
    "print(js)"
   ]
  },
  {
   "cell_type": "code",
   "execution_count": null,
   "metadata": {},
   "outputs": [],
   "source": []
  }
 ],
 "metadata": {
  "kernelspec": {
   "display_name": "Python 3 (ipykernel)",
   "language": "python",
   "name": "python3"
  },
  "language_info": {
   "codemirror_mode": {
    "name": "ipython",
    "version": 3
   },
   "file_extension": ".py",
   "mimetype": "text/x-python",
   "name": "python",
   "nbconvert_exporter": "python",
   "pygments_lexer": "ipython3",
   "version": "3.12.4"
  }
 },
 "nbformat": 4,
 "nbformat_minor": 4
}
